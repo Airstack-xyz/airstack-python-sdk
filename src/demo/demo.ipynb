{
 "cells": [
  {
   "cell_type": "code",
   "execution_count": null,
   "id": "495e026a",
   "metadata": {},
   "outputs": [],
   "source": [
    "import sys\n",
    "!{sys.executable} -m pip install airstack"
   ]
  },
  {
   "cell_type": "code",
   "execution_count": null,
   "id": "9b880bcf",
   "metadata": {},
   "outputs": [],
   "source": [
    "import asyncio\n",
    "import json\n",
    "from airstack.execute_query import AirstackClient"
   ]
  },
  {
   "cell_type": "code",
   "execution_count": null,
   "id": "08d4bba8",
   "metadata": {},
   "outputs": [],
   "source": [
    "api_client = AirstackClient(api_key='9deb75ae44b24f4ca9eecfbc37492edd')"
   ]
  },
  {
   "cell_type": "code",
   "execution_count": null,
   "id": "dccbb7cc",
   "metadata": {},
   "outputs": [],
   "source": [
    "query =  \"\"\"\n",
    "query CurrentTokenBalances($identity: Identity) {\n",
    "  Ethereum: TokenBalances(\n",
    "    input: {filter: {owner: {_eq: $identity}}, blockchain: ethereum, order: {lastUpdatedTimestamp: DESC}, limit: 200}\n",
    "  ) {\n",
    "    TokenBalance {\n",
    "      amount\n",
    "      tokenType\n",
    "      tokenAddress\n",
    "      token {\n",
    "        name\n",
    "      }\n",
    "    }\n",
    "    pageInfo {\n",
    "      nextCursor\n",
    "      prevCursor\n",
    "    }\n",
    "  }\n",
    "  Polygon: TokenBalances(\n",
    "    input: {filter: {owner: {_eq: $identity}}, blockchain: polygon, order: {lastUpdatedTimestamp: DESC}, limit: 200}\n",
    "  ) {\n",
    "    TokenBalance {\n",
    "      amount\n",
    "      tokenType\n",
    "      tokenAddress\n",
    "      token {\n",
    "        name\n",
    "      }\n",
    "    }\n",
    "    pageInfo {\n",
    "      nextCursor\n",
    "      prevCursor\n",
    "    }\n",
    "  }\n",
    "}\n",
    "  \"\"\"\n",
    "  \n",
    "variables = {\n",
    "  \"identity\": \"vitalik.eth\"\n",
    "}"
   ]
  },
  {
   "cell_type": "code",
   "execution_count": null,
   "id": "9cab9714",
   "metadata": {},
   "outputs": [],
   "source": [
    "execute_query_client = api_client.create_execute_query_object(query=query, variables=variables)\n",
    "query_response = await execute_query_client.execute_paginated_query()\n",
    "\n",
    "print(\"error\", query_response.error)\n",
    "print(\"data \", json.dumps(query_response.data))"
   ]
  },
  {
   "cell_type": "code",
   "execution_count": null,
   "id": "06b4acf1",
   "metadata": {},
   "outputs": [],
   "source": [
    "if query_response.has_next_page: \n",
    "    query_response = await query_response.get_next_page\n",
    "    print(\"page 2 data \", json.dumps(query_response.data))\n",
    "    \n",
    "if query_response.has_prev_page: \n",
    "    query_response = await query_response.get_prev_page\n",
    "    print(\"page 1 data \", json.dumps(query_response.data))"
   ]
  },
  {
   "cell_type": "code",
   "execution_count": null,
   "id": "8fc8946f",
   "metadata": {},
   "outputs": [],
   "source": [
    "async def execute_with_pagination(api_client, query, variables):\n",
    "    execute_query_client = api_client.create_execute_query_object(query=query, variables=variables)\n",
    "    query_response = await execute_query_client.execute_paginated_query()\n",
    "    \n",
    "    while query_response.has_next_page:\n",
    "            yield query_response\n",
    "            query_response = await query_response.get_next_page\n",
    "    yield query_response"
   ]
  },
  {
   "cell_type": "code",
   "execution_count": null,
   "id": "9d2d2f9b",
   "metadata": {},
   "outputs": [],
   "source": [
    "responses =  execute_with_pagination(api_client=api_client,query=query, variables=variables)\n",
    "\n",
    "async for response in responses:\n",
    "    print(response.data)"
   ]
  },
  {
   "cell_type": "code",
   "execution_count": null,
   "id": "f77696d5",
   "metadata": {},
   "outputs": [],
   "source": []
  }
 ],
 "metadata": {
  "kernelspec": {
   "display_name": "Python 3 (ipykernel)",
   "language": "python",
   "name": "python3"
  },
  "language_info": {
   "codemirror_mode": {
    "name": "ipython",
    "version": 3
   },
   "file_extension": ".py",
   "mimetype": "text/x-python",
   "name": "python",
   "nbconvert_exporter": "python",
   "pygments_lexer": "ipython3",
   "version": "3.8.9"
  }
 },
 "nbformat": 4,
 "nbformat_minor": 5
}
